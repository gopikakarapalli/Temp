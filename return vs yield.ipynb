{
 "cells": [
  {
   "cell_type": "code",
   "execution_count": 5,
   "metadata": {},
   "outputs": [],
   "source": [
    "def test(x):\n",
    "    for i in (range(x)):\n",
    "        return x"
   ]
  },
  {
   "cell_type": "code",
   "execution_count": 24,
   "metadata": {},
   "outputs": [],
   "source": [
    "def test2(x):\n",
    "    for i in (range(x)):\n",
    "        yield  x\n",
    "        yield  x/2"
   ]
  },
  {
   "cell_type": "code",
   "execution_count": 25,
   "metadata": {},
   "outputs": [
    {
     "name": "stdout",
     "output_type": "stream",
     "text": [
      "10\n"
     ]
    }
   ],
   "source": [
    "t =test(10)\n",
    "print(t)"
   ]
  },
  {
   "cell_type": "code",
   "execution_count": 28,
   "metadata": {},
   "outputs": [
    {
     "name": "stdout",
     "output_type": "stream",
     "text": [
      "[10, 5.0, 10, 5.0, 10, 5.0, 10, 5.0, 10, 5.0, 10, 5.0, 10, 5.0, 10, 5.0, 10, 5.0, 10, 5.0]\n"
     ]
    }
   ],
   "source": [
    "y= test2(10)\n",
    "print(list(y))"
   ]
  },
  {
   "cell_type": "code",
   "execution_count": 19,
   "metadata": {},
   "outputs": [
    {
     "name": "stdout",
     "output_type": "stream",
     "text": [
      "1\n",
      "2\n",
      "3\n"
     ]
    }
   ],
   "source": [
    "def simpleGeneratorFun(): \n",
    "    yield 1\n",
    "    yield 2\n",
    "    yield 3\n",
    "  \n",
    "# Driver code to check above generator function \n",
    "for value in simpleGeneratorFun():  \n",
    "    print(value)"
   ]
  },
  {
   "cell_type": "code",
   "execution_count": 30,
   "metadata": {},
   "outputs": [
    {
     "name": "stdout",
     "output_type": "stream",
     "text": [
      "1\n",
      "1\n",
      "4\n",
      "8\n",
      "9\n",
      "27\n",
      "16\n",
      "64\n",
      "25\n"
     ]
    }
   ],
   "source": [
    "def nextSquare(): \n",
    "    i = 1; \n",
    "    # An Infinite loop to generate squares  \n",
    "    while True: \n",
    "        yield i*i\n",
    "        \n",
    "#        yield i*i*i\n",
    "        \n",
    "        i += 1  # Next execution resumes  \n",
    "                # from this point      \n",
    "# Driver code to test above generator  \n",
    "# function \n",
    "for num in nextSquare(): \n",
    "    if num > 100: \n",
    "         break    \n",
    "    print(num) "
   ]
  },
  {
   "cell_type": "code",
   "execution_count": null,
   "metadata": {},
   "outputs": [],
   "source": []
  }
 ],
 "metadata": {
  "kernelspec": {
   "display_name": "Python 3",
   "language": "python",
   "name": "python3"
  },
  "language_info": {
   "codemirror_mode": {
    "name": "ipython",
    "version": 3
   },
   "file_extension": ".py",
   "mimetype": "text/x-python",
   "name": "python",
   "nbconvert_exporter": "python",
   "pygments_lexer": "ipython3",
   "version": "3.7.4"
  }
 },
 "nbformat": 4,
 "nbformat_minor": 2
}
